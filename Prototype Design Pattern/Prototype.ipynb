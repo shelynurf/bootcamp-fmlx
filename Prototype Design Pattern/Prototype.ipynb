{
 "cells": [
  {
   "cell_type": "markdown",
   "metadata": {},
   "source": [
    "# Prototype Design Pattern\n",
    "\n",
    "## What is Prototype Design Pattern?\n",
    "- Creational Design Pattern\n",
    "- Create new objects by copying an existing object(prototype).\n",
    "\n",
    "## When to use Prototype Design Pattern?\n",
    "- Expensive Object Creation\n",
    "- Complex Object Initialization\n",
    "- Avoid Subclassing\n",
    "- Immutable Objects\n",
    "\n",
    "## How to Implement\n",
    "- Create prototype interface, declare `.Clone()` method\n",
    "- Prototype class must define alternative constructor\n",
    "- Every class must explicitly override the cloning method\n",
    "\n",
    "## Pros and Cons\n",
    "### Pros\n",
    "- Can clone objects without coupling to their concrete classes.\n",
    "- Can get rid of repeated initialization code in favor of cloning pre-built prototypes.\n",
    "- Can produce complex objects more conveniently.\n",
    "- Get an alternative to inheritance when dealing with configuration presets for complex objects.\n",
    "\n",
    "### Cons\n",
    "- Cloning complex objects that have circular references might be very tricky.\n",
    "\n",
    "\n",
    "## Prototype Vs Factory Method\n",
    "- Prototype is used to create new instance by cloning a existing object.\n",
    "Factory method is used to create objects but leave the specific object creation to subclasses.\n",
    "- \n",
    "\n"
   ]
  }
 ],
 "metadata": {
  "language_info": {
   "name": "python"
  },
  "orig_nbformat": 4
 },
 "nbformat": 4,
 "nbformat_minor": 2
}
