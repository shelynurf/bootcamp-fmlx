{
 "cells": [
  {
   "cell_type": "markdown",
   "metadata": {},
   "source": [
    "# Prototype Design Pattern\n",
    "\n",
    "## What is Prototype Design Pattern?\n",
    "- Creational Design Pattern\n",
    "- Create new objects by copying an existing object(prototype).\n",
    "\n",
    "## When to use Prototype Design Pattern?\n",
    "- Expensive Object Creation\n",
    "- Complex Object Initialization\n",
    "- Avoid Subclassing\n",
    "- Immutable Objects\n",
    "\n",
    "## How to Implement\n",
    "- Create prototype interface, declare `.Clone()` method\n",
    "- Prototype class must define alternative constructor\n",
    "- Every class must explicitly override the cloning method\n",
    "\n",
    "## Pros and Cons\n",
    "### Pros\n",
    "- Can clone objects without coupling to their concrete classes.\n",
    "- Can get rid of repeated initialization code in favor of cloning pre-built prototypes.\n",
    "- Can produce complex objects more conveniently.\n",
    "- Get an alternative to inheritance when dealing with configuration presets for complex objects.\n",
    "\n",
    "### Cons\n",
    "- Cloning complex objects that have circular references might be very tricky.\n",
    "\n",
    "\n",
    "factory method\n"
   ]
  }
 ],
 "metadata": {
  "language_info": {
   "name": "python"
  },
  "orig_nbformat": 4
 },
 "nbformat": 4,
 "nbformat_minor": 2
}
