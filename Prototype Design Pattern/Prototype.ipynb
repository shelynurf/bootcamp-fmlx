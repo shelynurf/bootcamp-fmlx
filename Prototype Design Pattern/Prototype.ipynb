{
 "cells": [
  {
   "cell_type": "markdown",
   "metadata": {},
   "source": [
    "# Prototype Design Pattern\n",
    "\n",
    "## What is Prototype Design Pattern?\n",
    "- Creational Design Pattern\n",
    "- Create new objects by copying an existing object(prototype).\n",
    "\n",
    "## When to use Prototype Design Pattern?\n",
    "- Expensive Object Creation\n",
    "- Complex Object Initialization\n",
    "- Dynamic Object Composition\n",
    "- Avoid Subclassing\n",
    "- Immutable Objects\n",
    "- Reducing Coupling\n",
    "- Stateful Objects\n",
    "- Resource Sharing\n",
    "\n",
    "## Before\n",
    "- Create a new object, then go through all the fields of the original object and copy their values over to the new object.\n",
    "- But some object field may be private\n",
    "- Sometimes we only know the interface that the object follow, but not the concrete class\n",
    "\n",
    "## After\n",
    "- Declares a common interface for all objects that support cloning that lets you clone an object without coupling your code to the class of that object.\n",
    "\n",
    "\n",
    "## How to Implement\n",
    "- Create prototype interface, declare `.Clone()` method\n",
    "- Prototype class must define alternative constructor\n",
    "- Every class must explicitly override the cloning method and use its own class name along with the `new` operator\n",
    "- Optionally, create a centralized prototype registry to store a catalog of frequently used prototypes.\n",
    "\n",
    "\n",
    "## Pros and Cons\n",
    "### Pros\n",
    "- Can clone objects without coupling to their concrete classes.\n",
    "- Can get rid of repeated initialization code in favor of cloning pre-built prototypes.\n",
    "- Can produce complex objects more conveniently.\n",
    "- Get an alternative to inheritance when dealing with configuration presets for complex objects.\n",
    "\n",
    "### Cons\n",
    "- Cloning complex objects that have circular references might be very tricky.\n",
    "\n",
    "## Example"
   ]
  },
  {
   "cell_type": "code",
   "execution_count": null,
   "metadata": {
    "dotnet_interactive": {
     "language": "csharp"
    },
    "polyglot_notebook": {
     "kernelName": "csharp"
    },
    "vscode": {
     "languageId": "polyglot-notebook"
    }
   },
   "outputs": [],
   "source": [
    "namespace Prototype;"
   ]
  },
  {
   "cell_type": "code",
   "execution_count": 4,
   "metadata": {
    "vscode": {
     "languageId": "polyglot-notebook"
    }
   },
   "outputs": [
    {
     "ename": "Error",
     "evalue": "(1,1): error CS7021: Cannot declare namespace in script code",
     "output_type": "error",
     "traceback": [
      "(1,1): error CS7021: Cannot declare namespace in script code"
     ]
    }
   ],
   "source": [
    "public class Person\n",
    "    {\n",
    "        public int Age;\n",
    "        public DateTime BirthDate;\n",
    "        public string Name;\n",
    "        public IdInfo IdInfo;\n",
    "\n",
    "        public Person ShallowCopy()\n",
    "        {\n",
    "            return (Person) this.MemberwiseClone();\n",
    "        }\n",
    "\n",
    "        public Person DeepCopy()\n",
    "        {\n",
    "            Person clone = (Person) this.MemberwiseClone();\n",
    "            clone.IdInfo = new IdInfo(IdInfo.IdNumber);\n",
    "            clone.Name = String.Copy(Name);\n",
    "            return clone;\n",
    "        }\n",
    "    }"
   ]
  },
  {
   "cell_type": "code",
   "execution_count": 1,
   "metadata": {
    "dotnet_interactive": {
     "language": "csharp"
    },
    "polyglot_notebook": {
     "kernelName": "csharp"
    },
    "vscode": {
     "languageId": "polyglot-notebook"
    }
   },
   "outputs": [],
   "source": [
    "public class IdInfo\n",
    "    {\n",
    "        public int IdNumber;\n",
    "\n",
    "        public IdInfo(int idNumber)\n",
    "        {\n",
    "            this.IdNumber = idNumber;\n",
    "        }\n",
    "    }"
   ]
  },
  {
   "cell_type": "code",
   "execution_count": 2,
   "metadata": {
    "dotnet_interactive": {
     "language": "csharp"
    },
    "polyglot_notebook": {
     "kernelName": "csharp"
    },
    "vscode": {
     "languageId": "polyglot-notebook"
    }
   },
   "outputs": [
    {
     "ename": "Error",
     "evalue": "(1,34): error CS0246: The type or namespace name 'Person' could not be found (are you missing a using directive or an assembly reference?)",
     "output_type": "error",
     "traceback": [
      "(1,34): error CS0246: The type or namespace name 'Person' could not be found (are you missing a using directive or an assembly reference?)"
     ]
    }
   ],
   "source": [
    "public static void DisplayValues(Person p)\n",
    "        {\n",
    "            Console.WriteLine(\"      Name: {0:s}, Age: {1:d}, BirthDate: {2:MM/dd/yy}\",\n",
    "                p.Name, p.Age, p.BirthDate);\n",
    "            Console.WriteLine(\"      ID#: {0:d}\", p.IdInfo.IdNumber);\n",
    "        }"
   ]
  },
  {
   "cell_type": "code",
   "execution_count": 3,
   "metadata": {
    "dotnet_interactive": {
     "language": "csharp"
    },
    "polyglot_notebook": {
     "kernelName": "csharp"
    },
    "vscode": {
     "languageId": "polyglot-notebook"
    }
   },
   "outputs": [
    {
     "ename": "Error",
     "evalue": "(3,13): error CS0246: The type or namespace name 'Person' could not be found (are you missing a using directive or an assembly reference?)\r\n(3,29): error CS0246: The type or namespace name 'Person' could not be found (are you missing a using directive or an assembly reference?)\r\n(10,13): error CS0246: The type or namespace name 'Person' could not be found (are you missing a using directive or an assembly reference?)\r\n(12,13): error CS0246: The type or namespace name 'Person' could not be found (are you missing a using directive or an assembly reference?)\r\n(17,13): error CS0103: The name 'DisplayValues' does not exist in the current context\r\n(19,13): error CS0103: The name 'DisplayValues' does not exist in the current context\r\n(21,13): error CS0103: The name 'DisplayValues' does not exist in the current context\r\n(31,13): error CS0103: The name 'DisplayValues' does not exist in the current context\r\n(33,13): error CS0103: The name 'DisplayValues' does not exist in the current context\r\n(35,13): error CS0103: The name 'DisplayValues' does not exist in the current context",
     "output_type": "error",
     "traceback": [
      "(3,13): error CS0246: The type or namespace name 'Person' could not be found (are you missing a using directive or an assembly reference?)\r\n",
      "(3,29): error CS0246: The type or namespace name 'Person' could not be found (are you missing a using directive or an assembly reference?)\r\n",
      "(10,13): error CS0246: The type or namespace name 'Person' could not be found (are you missing a using directive or an assembly reference?)\r\n",
      "(12,13): error CS0246: The type or namespace name 'Person' could not be found (are you missing a using directive or an assembly reference?)\r\n",
      "(17,13): error CS0103: The name 'DisplayValues' does not exist in the current context\r\n",
      "(19,13): error CS0103: The name 'DisplayValues' does not exist in the current context\r\n",
      "(21,13): error CS0103: The name 'DisplayValues' does not exist in the current context\r\n",
      "(31,13): error CS0103: The name 'DisplayValues' does not exist in the current context\r\n",
      "(33,13): error CS0103: The name 'DisplayValues' does not exist in the current context\r\n",
      "(35,13): error CS0103: The name 'DisplayValues' does not exist in the current context"
     ]
    }
   ],
   "source": [
    "static void Main(string[] args)\n",
    "        {\n",
    "            Person p1 = new Person();\n",
    "            p1.Age = 42;\n",
    "            p1.BirthDate = Convert.ToDateTime(\"1977-01-01\");\n",
    "            p1.Name = \"Jack Daniels\";\n",
    "            p1.IdInfo = new IdInfo(666);\n",
    "\n",
    "            // Perform a shallow copy of p1 and assign it to p2.\n",
    "            Person p2 = p1.ShallowCopy();\n",
    "            // Make a deep copy of p1 and assign it to p3.\n",
    "            Person p3 = p1.DeepCopy();\n",
    "\n",
    "            // Display values of p1, p2 and p3.\n",
    "            Console.WriteLine(\"Original values of p1, p2, p3:\");\n",
    "            Console.WriteLine(\"   p1 instance values: \");\n",
    "            DisplayValues(p1);\n",
    "            Console.WriteLine(\"   p2 instance values:\");\n",
    "            DisplayValues(p2);\n",
    "            Console.WriteLine(\"   p3 instance values:\");\n",
    "            DisplayValues(p3);\n",
    "\n",
    "            // Change the value of p1 properties and display the values of p1,\n",
    "            // p2 and p3.\n",
    "            p1.Age = 32;\n",
    "            p1.BirthDate = Convert.ToDateTime(\"1900-01-01\");\n",
    "            p1.Name = \"Frank\";\n",
    "            p1.IdInfo.IdNumber = 7878;\n",
    "            Console.WriteLine(\"\\nValues of p1, p2 and p3 after changes to p1:\");\n",
    "            Console.WriteLine(\"   p1 instance values: \");\n",
    "            DisplayValues(p1);\n",
    "            Console.WriteLine(\"   p2 instance values (reference values have changed):\");\n",
    "            DisplayValues(p2);\n",
    "            Console.WriteLine(\"   p3 instance values (everything was kept the same):\");\n",
    "            DisplayValues(p3);\n",
    "        }"
   ]
  }
 ],
 "metadata": {
  "language_info": {
   "name": "python"
  },
  "orig_nbformat": 4
 },
 "nbformat": 4,
 "nbformat_minor": 2
}
