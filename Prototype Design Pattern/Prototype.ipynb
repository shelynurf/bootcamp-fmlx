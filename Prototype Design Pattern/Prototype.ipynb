{
 "cells": [
  {
   "cell_type": "markdown",
   "metadata": {},
   "source": [
    "# Prototype Design Pattern\n",
    "\n",
    "- Creational Design Pattern\n",
    "- Use to copy existing object without making your code dependent on their class\n",
    "\n",
    "## Before\n",
    "- Create a new object, then go through all the fields of the original object and copy their values over to the new object.\n",
    "- But some object field may be private\n",
    "- Sometimes we only know the interface that the object follow, but not the concrete class\n"
   ]
  }
 ],
 "metadata": {
  "language_info": {
   "name": "python"
  },
  "orig_nbformat": 4
 },
 "nbformat": 4,
 "nbformat_minor": 2
}
